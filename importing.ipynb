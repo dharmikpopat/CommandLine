{
 "cells": [
  {
   "cell_type": "code",
   "execution_count": 97,
   "metadata": {},
   "outputs": [],
   "source": [
    "import os"
   ]
  },
  {
   "cell_type": "code",
   "execution_count": 98,
   "metadata": {},
   "outputs": [],
   "source": [
    "x = os.popen(\"dir\").read()"
   ]
  },
  {
   "cell_type": "code",
   "execution_count": 99,
   "metadata": {},
   "outputs": [],
   "source": [
    "y = x.splitlines()"
   ]
  },
  {
   "cell_type": "code",
   "execution_count": 100,
   "metadata": {},
   "outputs": [
    {
     "name": "stdout",
     "output_type": "stream",
     "text": [
      " Volume in drive C is Windows\n",
      " Volume Serial Number is 2A82-BEAC\n",
      "\n",
      " Directory of C:\\Users\\Dharmik\\Desktop\\kaushik project\n",
      "\n",
      "25-09-2019  13:08    <DIR>          .\n",
      "25-09-2019  13:08    <DIR>          ..\n",
      "25-09-2019  12:50    <DIR>          .ipynb_checkpoints\n",
      "25-09-2019  13:08             2,848 importing.ipynb\n",
      "               1 File(s)          2,848 bytes\n",
      "               3 Dir(s)  247,885,717,504 bytes free\n"
     ]
    }
   ],
   "source": [
    "for x in y:\n",
    "    print(x)"
   ]
  },
  {
   "cell_type": "code",
   "execution_count": 101,
   "metadata": {},
   "outputs": [],
   "source": [
    "os.chdir(r\"C:\\Users\\Dharmik\\Desktop\")"
   ]
  },
  {
   "cell_type": "code",
   "execution_count": 104,
   "metadata": {},
   "outputs": [],
   "source": [
    "x = os.popen(\"dir\").read()"
   ]
  },
  {
   "cell_type": "code",
   "execution_count": 106,
   "metadata": {},
   "outputs": [],
   "source": [
    "y = x.splitlines()"
   ]
  },
  {
   "cell_type": "code",
   "execution_count": 107,
   "metadata": {},
   "outputs": [
    {
     "name": "stdout",
     "output_type": "stream",
     "text": [
      " Volume in drive C is Windows\n",
      " Volume Serial Number is 2A82-BEAC\n",
      "\n",
      " Directory of C:\\Users\\Dharmik\\Desktop\n",
      "\n",
      "25-09-2019  12:49    <DIR>          .\n",
      "25-09-2019  12:49    <DIR>          ..\n",
      "13-09-2019  16:51    <DIR>          .ipynb_checkpoints\n",
      "12-07-2019  18:31               777 4K Video Downloader.lnk\n",
      "19-08-2019  21:46            76,495 ACK-SLIP-converted.docx\n",
      "19-08-2019  21:45           147,508 ACK-SLIP.pdf\n",
      "07-02-2019  14:48               653 barso se.txt\n",
      "10-07-2019  13:21               925 BitTorrent.lnk\n",
      "17-09-2019  10:59                83 block-chain links.txt\n",
      "28-08-2019  14:37             1,178 captions.txt\n",
      "11-05-2019  00:04    <DIR>          CLOUD\n",
      "28-08-2019  12:16            56,844 Cover Letter.pdf\n",
      "28-08-2019  12:18            56,619 Cover_Letter.pdf\n",
      "11-09-2019  23:40    <DIR>          Data Structure\n",
      "13-09-2019  17:00             1,650 Deciding Batch size and Time Step.ipynb\n",
      "03-05-2019  10:48             1,072 Dev-C++.lnk\n",
      "11-04-2019  23:54    <DIR>          dharmik\n",
      "12-07-2019  11:03             2,443 Dharmik - Chrome.lnk\n",
      "10-07-2019  16:35           178,791 Dharmik Resume.pdf\n",
      "14-08-2019  13:17             3,508 download.png\n",
      "16-07-2019  15:25    <DIR>          dump11_07.sql\n",
      "16-07-2019  11:49        51,580,566 dump11_07.sql.gz\n",
      "19-09-2019  18:17       246,814,968 Elements of Programming Interviews in Python- The Insiders' Guide ( PDFDrive.com ).pdf\n",
      "24-10-2015  22:22             4,307 evaluate.py\n",
      "03-09-2019  16:39             2,358 function.py\n",
      "19-08-2019  21:50           111,716 hello.jpg\n",
      "20-09-2019  20:32             1,085 Internet Download Manager.lnk\n",
      "25-09-2019  13:12    <DIR>          kaushik project\n",
      "31-05-2019  21:38            13,786 KONKOTRI.docx\n",
      "19-09-2019  15:49    <DIR>          LeetCode\n",
      "09-07-2019  12:45        37,271,430 Machine Learning Algorithms.pdf\n",
      "20-01-2019  18:22             1,417 Microsoft Edge.lnk\n",
      "17-09-2019  12:50    <DIR>          New folder\n",
      "16-07-2019  18:27    <DIR>          ngrok\n",
      "12-07-2019  11:03             2,487 Opensenselabs - Chrome.lnk\n",
      "03-07-2019  11:22             2,226 Postman.lnk\n",
      "17-07-2019  18:41         1,122,818 Predicting Stock Price with LSTM - Towards Data Science.pdf\n",
      "11-09-2019  13:39    <DIR>          Question-Answer-System\n",
      "11-09-2019  13:43         2,582,876 Question-Answer-System.zip\n",
      "13-08-2019  14:41           588,776 rescue.txt\n",
      "24-09-2019  15:40            54,272 Resume.doc\n",
      "18-09-2019  01:11         1,052,728 rufus-3.5.exe\n",
      "08-08-2019  12:35    <DIR>          Sakshi\n",
      "01-07-2019  17:30           445,717 Sakshi Resume.pdf\n",
      "09-09-2019  11:19           212,161 sakshii.jpg\n",
      "23-07-2019  12:29                43 shayaris link.txt\n",
      "19-06-2019  13:26    <DIR>          shraddha\n",
      "27-02-2019  18:06             1,867 Spotify.lnk\n",
      "07-08-2019  11:46    <DIR>          stock details\n",
      "01-08-2019  23:15             4,314 stock_pred.py\n",
      "17-07-2019  18:43         3,904,355 The Unreasonable Effectiveness of Recurrent Neural Networks.pdf\n",
      "24-09-2019  16:04            12,449 title.png\n",
      "01-11-2018  18:55    <DIR>          uncased_L-12_H-768_A-12\n",
      "21-08-2019  16:57           170,331 UpdatedResume.pdf\n",
      "23-01-2019  10:29             1,413 Visual Studio Code.lnk\n",
      "18-07-2019  14:10         5,339,013 yes_bank.csv\n",
      "18-06-2018  01:42       211,833,332 _-r8RxkpUvxK0.mp4\n",
      "              41 File(s)    563,661,357 bytes\n",
      "              16 Dir(s)  247,885,406,208 bytes free\n"
     ]
    }
   ],
   "source": [
    "for p in y:\n",
    "    print(p)"
   ]
  },
  {
   "cell_type": "code",
   "execution_count": null,
   "metadata": {},
   "outputs": [],
   "source": []
  }
 ],
 "metadata": {
  "kernelspec": {
   "display_name": "Python 3",
   "language": "python",
   "name": "python3"
  },
  "language_info": {
   "codemirror_mode": {
    "name": "ipython",
    "version": 3
   },
   "file_extension": ".py",
   "mimetype": "text/x-python",
   "name": "python",
   "nbconvert_exporter": "python",
   "pygments_lexer": "ipython3",
   "version": "3.7.3"
  }
 },
 "nbformat": 4,
 "nbformat_minor": 2
}
